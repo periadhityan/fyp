{
 "cells": [
  {
   "cell_type": "code",
   "execution_count": null,
   "metadata": {},
   "outputs": [],
   "source": [
    "import dgl\n",
    "import torch\n",
    "from tqdm import tqdm\n",
    "import dgl.function as fn\n",
    "import torch.nn as nn\n",
    "device = torch.device('cuda' if torch.cuda.is_available() else 'cpu')\n",
    "import time"
   ]
  },
  {
   "cell_type": "code",
   "execution_count": 2,
   "metadata": {},
   "outputs": [],
   "source": [
    "benign_graphs, benign_labels = dgl.load_graphs(\"benign.bin\")\n",
    "malicious_graphs, malicious_labels = dgl.load_graphs(\"malicious_aftermp.bin\")"
   ]
  },
  {
   "cell_type": "code",
   "execution_count": 3,
   "metadata": {},
   "outputs": [],
   "source": [
    "benign_graphs = [g.to(device) for g in benign_graphs]\n",
    "malicious_graphs = [g.to(device) for g in malicious_graphs]"
   ]
  },
  {
   "cell_type": "code",
   "execution_count": 4,
   "metadata": {},
   "outputs": [],
   "source": [
    "class GraphConvolution(nn.Module):\n",
    "    def __init__(self, graph, input_features, hidden_features):\n",
    "        super(GraphConvolution, self).__init__()\n",
    "        self.graph = graph\n",
    "        self.weight = nn.ModuleDict({\n",
    "            f'{srctype}-{etype}-{dsttype}': nn.Linear(input_features[srctype], hidden_features[(srctype, etype, dsttype)])\n",
    "            for srctype, etype, dsttype in graph.canonical_etypes\n",
    "        })\n",
    "\n",
    "    def forward(self, feature_dictionary):\n",
    "        g = self.graph\n",
    "        funcs = {}\n",
    "\n",
    "        for srctype, etype, dsttype in g.canonical_etypes:\n",
    "            key = f'{srctype}-{etype}-{dsttype}'\n",
    "            Wh = self.weight[key](feature_dictionary[srctype])\n",
    "            g.nodes[srctype].data['h'] = Wh\n",
    "            funcs[(srctype, etype, dsttype)] = fn.copy_u(f'h', 'm'), fn.mean('m', 'h')\n",
    "\n",
    "        g.multi_update_all(funcs, 'sum')\n",
    "            \n",
    "\n"
   ]
  },
  {
   "cell_type": "code",
   "execution_count": 5,
   "metadata": {},
   "outputs": [],
   "source": [
    "def multi_round_message_passing(graph, convolution, rounds):\n",
    "    for _ in range(rounds):\n",
    "        feature_dictionary = {ntype: graph.nodes[ntype].data['h'] for ntype in graph.ntypes}\n",
    "        convolution.forward(feature_dictionary)\n"
   ]
  },
  {
   "cell_type": "code",
   "execution_count": null,
   "metadata": {},
   "outputs": [],
   "source": [
    "for g in tqdm(benign_graphs, desc=\"Message Passing for Benign\", unit=\"Graphs\"):\n",
    "    input_features = {ntype: 128 for ntype in g.ntypes}\n",
    "    hidden_features = {(srctype, etype, dsttype): 128 for srctype, etype, dsttype in g.canonical_etypes}\n",
    "    feature_dictionary = {ntype: g.nodes[ntype].data['h'] for ntype in g.ntypes}\n",
    "    convolution = GraphConvolution(g, input_features, hidden_features)\n",
    "    convolution.to(device)\n",
    "    multi_round_message_passing(g, convolution, 3)\n",
    "\n",
    "dgl.save_graphs('benign_aftermp.bin', benign_graphs, benign_labels)"
   ]
  },
  {
   "cell_type": "code",
   "execution_count": null,
   "metadata": {},
   "outputs": [],
   "source": [
    "for g in tqdm(malicious_graphs, desc=\"Message Passing for Malicious\", unit=\"Graphs\"):\n",
    "    input_features = {ntype: 128 for ntype in g.ntypes}\n",
    "    hidden_features = {(srctype, etype, dsttype): 128 for srctype, etype, dsttype in g.canonical_etypes}\n",
    "    feature_dictionary = {ntype: g.nodes[ntype].data['h'] for ntype in g.ntypes}\n",
    "    convolution = GraphConvolution(g, input_features, hidden_features)\n",
    "    convolution.to(device)\n",
    "    multi_round_message_passing(g, convolution, 1)\n",
    "\n"
   ]
  },
  {
   "cell_type": "code",
   "execution_count": null,
   "metadata": {},
   "outputs": [],
   "source": [
    "dgl.save_graphs('malicious_aftermp.bin', malicious_graphs, malicious_labels)"
   ]
  },
  {
   "cell_type": "code",
   "execution_count": null,
   "metadata": {},
   "outputs": [],
   "source": []
  }
 ],
 "metadata": {
  "kernelspec": {
   "display_name": "Python 3",
   "language": "python",
   "name": "python3"
  },
  "language_info": {
   "codemirror_mode": {
    "name": "ipython",
    "version": 3
   },
   "file_extension": ".py",
   "mimetype": "text/x-python",
   "name": "python",
   "nbconvert_exporter": "python",
   "pygments_lexer": "ipython3",
   "version": "3.9.6"
  }
 },
 "nbformat": 4,
 "nbformat_minor": 2
}
