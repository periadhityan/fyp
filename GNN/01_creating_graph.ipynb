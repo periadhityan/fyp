{
 "cells": [
  {
   "cell_type": "code",
   "execution_count": 1,
   "metadata": {},
   "outputs": [
    {
     "name": "stderr",
     "output_type": "stream",
     "text": [
      "/Users/periadhityan/Library/Python/3.9/lib/python/site-packages/urllib3/__init__.py:35: NotOpenSSLWarning: urllib3 v2 only supports OpenSSL 1.1.1+, currently the 'ssl' module is compiled with 'LibreSSL 2.8.3'. See: https://github.com/urllib3/urllib3/issues/3020\n",
      "  warnings.warn(\n",
      "/Users/periadhityan/Library/Python/3.9/lib/python/site-packages/torchdata/datapipes/__init__.py:18: UserWarning: \n",
      "################################################################################\n",
      "WARNING!\n",
      "The 'datapipes', 'dataloader2' modules are deprecated and will be removed in a\n",
      "future torchdata release! Please see https://github.com/pytorch/data/issues/1196\n",
      "to learn more and leave feedback.\n",
      "################################################################################\n",
      "\n",
      "  deprecation_warning()\n",
      "/Users/periadhityan/Library/Python/3.9/lib/python/site-packages/tqdm/auto.py:21: TqdmWarning: IProgress not found. Please update jupyter and ipywidgets. See https://ipywidgets.readthedocs.io/en/stable/user_install.html\n",
      "  from .autonotebook import tqdm as notebook_tqdm\n"
     ]
    }
   ],
   "source": [
    "import dgl\n",
    "import torch\n",
    "import json\n",
    "import os\n",
    "from tqdm import tqdm"
   ]
  },
  {
   "cell_type": "code",
   "execution_count": 2,
   "metadata": {},
   "outputs": [],
   "source": [
    "def CreatingGraphs(graphs_folder, graphs_type):\n",
    "\n",
    "    graphs = []\n",
    "\n",
    "    for file in tqdm(os.listdir(graphs_folder), desc=\"Creating Graphs\", unit=\"Graphs\"):\n",
    "        json_file = os.path.join(graphs_folder, file)\n",
    "        g = create_graph(json_file)\n",
    "        graphs.append(g)\n",
    "\n",
    "    if graphs_type == \"benign\":\n",
    "        labels = {'labels': torch.zeros(len(graphs))}\n",
    "    else:\n",
    "        labels = {'labels': torch.ones(len(graphs))}\n",
    "\n",
    "    return graphs, labels\n",
    "\n",
    "def create_graph(file):\n",
    "\n",
    "    with open(file, \"r\") as f:\n",
    "        data = json.load(f)\n",
    "\n",
    "    graph_data = {}\n",
    "\n",
    "    for edge, node_pairs in data.items():\n",
    "        stype, etype, dsttype = edge.split(\"-\")\n",
    "        \n",
    "        source = node_pairs[0]\n",
    "        destination = node_pairs[1]\n",
    "\n",
    "        graph_data[(stype, etype, dsttype)] = (torch.tensor(source), torch.tensor(destination))\n",
    "    \n",
    "    g = dgl.heterograph(graph_data)\n",
    "    \n",
    "    for ntype in g.ntypes:\n",
    "        g.nodes[ntype].data['h'] = torch.randn(g.num_nodes(ntype), 32)\n",
    "\n",
    "    return g "
   ]
  },
  {
   "cell_type": "code",
   "execution_count": 3,
   "metadata": {},
   "outputs": [],
   "source": [
    "benign = \"benign\"\n",
    "benign_type = \"benign\""
   ]
  },
  {
   "cell_type": "code",
   "execution_count": 4,
   "metadata": {},
   "outputs": [
    {
     "name": "stderr",
     "output_type": "stream",
     "text": [
      "Creating Graphs:   0%|          | 0/100 [00:00<?, ?Graphs/s]"
     ]
    },
    {
     "name": "stderr",
     "output_type": "stream",
     "text": [
      "Creating Graphs: 100%|██████████| 100/100 [00:19<00:00,  5.00Graphs/s]\n"
     ]
    }
   ],
   "source": [
    "benign_graphs, benign_labels = CreatingGraphs(benign, benign_type)\n",
    "dgl.save_graphs('benign.bin', benign_graphs, benign_labels)\n"
   ]
  },
  {
   "cell_type": "code",
   "execution_count": 5,
   "metadata": {},
   "outputs": [],
   "source": [
    "malicious = \"malicious\"\n",
    "malicious_type = \"malicious\""
   ]
  },
  {
   "cell_type": "code",
   "execution_count": 6,
   "metadata": {},
   "outputs": [
    {
     "name": "stderr",
     "output_type": "stream",
     "text": [
      "Creating Graphs: 100%|██████████| 100/100 [01:33<00:00,  1.07Graphs/s]\n"
     ]
    },
    {
     "ename": "",
     "evalue": "",
     "output_type": "error",
     "traceback": [
      "\u001b[1;31mThe Kernel crashed while executing code in the current cell or a previous cell. \n",
      "\u001b[1;31mPlease review the code in the cell(s) to identify a possible cause of the failure. \n",
      "\u001b[1;31mClick <a href='https://aka.ms/vscodeJupyterKernelCrash'>here</a> for more info. \n",
      "\u001b[1;31mView Jupyter <a href='command:jupyter.viewOutput'>log</a> for further details."
     ]
    }
   ],
   "source": [
    "malicous_graphs, malicious_labels = CreatingGraphs(malicious, malicious_type)\n",
    "dgl.save_graphs('malicious.bin', malicous_graphs, malicious_labels)"
   ]
  }
 ],
 "metadata": {
  "kernelspec": {
   "display_name": "Python 3",
   "language": "python",
   "name": "python3"
  },
  "language_info": {
   "codemirror_mode": {
    "name": "ipython",
    "version": 3
   },
   "file_extension": ".py",
   "mimetype": "text/x-python",
   "name": "python",
   "nbconvert_exporter": "python",
   "pygments_lexer": "ipython3",
   "version": "3.9.6"
  }
 },
 "nbformat": 4,
 "nbformat_minor": 2
}
